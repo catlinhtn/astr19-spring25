{
 "cells": [
  {
   "cell_type": "code",
   "execution_count": null,
   "id": "119ebf37",
   "metadata": {},
   "outputs": [],
   "source": [
    "import numpy as np\n",
    "import matplotlib.pyplot as plt\n"
   ]
  },
  {
   "cell_type": "code",
   "execution_count": null,
   "id": "a32d0cc1",
   "metadata": {},
   "outputs": [],
   "source": [
    "data = np.random.uniform(0, 1, 1000)\n"
   ]
  },
  {
   "cell_type": "code",
   "execution_count": null,
   "id": "29640f1b",
   "metadata": {},
   "outputs": [],
   "source": [
    "plt.figure(figsize=(8, 5))\n",
    "plt.hist(data, bins=100, color='skyblue', edgecolor='black')\n",
    "plt.title(\"Histogram of Uniform[0, 1] Random Numbers\")\n",
    "plt.xlabel(\"Value\")\n",
    "plt.ylabel(\"Frequency\")\n",
    "plt.tight_layout()\n",
    "plt.savefig(\"uniform_histogram.pdf\")\n",
    "plt.show()"
   ]
  }
 ],
 "metadata": {
  "language_info": {
   "name": "python"
  }
 },
 "nbformat": 4,
 "nbformat_minor": 5
}
